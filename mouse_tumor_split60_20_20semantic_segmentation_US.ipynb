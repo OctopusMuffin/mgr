{
  "nbformat": 4,
  "nbformat_minor": 0,
  "metadata": {
    "colab": {
      "name": "mouse_tumor_split60:20:20semantic_segmentation_US.ipynb",
      "provenance": [],
      "collapsed_sections": []
    },
    "kernelspec": {
      "name": "python3",
      "display_name": "Python 3"
    },
    "accelerator": "GPU"
  },
  "cells": [
    {
      "cell_type": "code",
      "metadata": {
        "colab": {
          "base_uri": "https://localhost:8080/"
        },
        "id": "sboqMRaAzUob",
        "outputId": "c80071f4-3c07-42ad-8f4e-72e6db2492f7"
      },
      "source": [
        "from google.colab import drive\n",
        "drive.mount('/content/drive')"
      ],
      "execution_count": null,
      "outputs": [
        {
          "output_type": "stream",
          "text": [
            "Mounted at /content/drive\n"
          ],
          "name": "stdout"
        }
      ]
    },
    {
      "cell_type": "code",
      "metadata": {
        "id": "SjQJOAQvQ9_Z"
      },
      "source": [
        "#credits\n",
        "#https://github.com/nikhilroxtomar/Polyp-Segmentation-using-UNET-in-TensorFlow-2.0\n",
        "#Podziękowania dla pani mgr Agnieszki Pocha z Instytutu Informatyki i Matematyki Komputerowej \n",
        "#(Wydział Matematyki i Informatyki UJ, Katedra Uczenia Maszynowego) za pomoc w implementacji sieci neuronowej z optymalizacją hiperparametrów."
      ],
      "execution_count": null,
      "outputs": []
    },
    {
      "cell_type": "code",
      "metadata": {
        "id": "ivpC7ZRH1pkI"
      },
      "source": [
        "#!unrar x \"/content/drive/My Drive/mouse_dataset.rar\" \"drive/My Drive\""
      ],
      "execution_count": null,
      "outputs": []
    },
    {
      "cell_type": "code",
      "metadata": {
        "id": "WSJR2bTnz8tJ"
      },
      "source": [
        "#DATA"
      ],
      "execution_count": null,
      "outputs": []
    },
    {
      "cell_type": "code",
      "metadata": {
        "id": "HkiiaBNFyArP"
      },
      "source": [
        "import os\n",
        "import numpy as np\n",
        "import cv2\n",
        "from glob import glob\n",
        "import tensorflow as tf\n",
        "from sklearn.model_selection import train_test_split\n",
        "import random"
      ],
      "execution_count": null,
      "outputs": []
    },
    {
      "cell_type": "code",
      "metadata": {
        "id": "2jY2lkr2ybtv"
      },
      "source": [
        "def load_data(path, split=0.2):\n",
        "    images = sorted(glob(os.path.join(path, \"/content/drive/My Drive/mouse_dataset/guz_jpg/*\")))\n",
        "    masks = sorted(glob(os.path.join(path, \"/content/drive/My Drive/mouse_dataset/maska_jpg/*\")))\n",
        "\n",
        "    total_size = len(images)\n",
        "    valid_size = int(split * total_size)\n",
        "    test_size = int(split * total_size)\n",
        "\n",
        "    train_x, valid_x = train_test_split(images, test_size=valid_size, random_state=42)\n",
        "    train_y, valid_y = train_test_split(masks, test_size=valid_size, random_state=42)\n",
        "\n",
        "    train_x, test_x = train_test_split(train_x, test_size=test_size, random_state=42)\n",
        "    train_y, test_y = train_test_split(train_y, test_size=test_size, random_state=42)\n",
        "\n",
        "    return (train_x, train_y), (valid_x, valid_y), (test_x, test_y)"
      ],
      "execution_count": null,
      "outputs": []
    },
    {
      "cell_type": "code",
      "metadata": {
        "id": "-Bfj5eoGyeJ4"
      },
      "source": [
        "def read_image(path):\n",
        "     path = path.decode()\n",
        "     x = cv2.imread(path, cv2.IMREAD_COLOR)\n",
        "     x = cv2.resize(x, (256, 256))\n",
        "     x = x/255.0\n",
        "     return x"
      ],
      "execution_count": null,
      "outputs": []
    },
    {
      "cell_type": "code",
      "metadata": {
        "id": "hnPbY_MVnoCy"
      },
      "source": [
        "def read_mask(path):\n",
        "     path = path.decode()\n",
        "     x = cv2.imread(path, cv2.IMREAD_GRAYSCALE)\n",
        "     x = cv2.resize(x, (256, 256))\n",
        "     x = x/255.0\n",
        "     x = np.expand_dims(x, axis=-1)\n",
        "     return x"
      ],
      "execution_count": null,
      "outputs": []
    },
    {
      "cell_type": "code",
      "metadata": {
        "id": "6z_oyWjkyj5u"
      },
      "source": [
        "def tf_parse(x, y):\n",
        "    def _parse(x, y):\n",
        "        x = read_image(x)\n",
        "        y = read_mask(y)\n",
        "        return x, y\n",
        "\n",
        "    x, y = tf.numpy_function(_parse, [x, y], [tf.float64, tf.float64])\n",
        "    x.set_shape([256, 256, 3])\n",
        "    y.set_shape([256, 256, 1])\n",
        "    return x, y\n",
        "\n",
        "def tf_dataset(x, y, batch=4):\n",
        "    dataset = tf.data.Dataset.from_tensor_slices((x, y))\n",
        "    dataset = dataset.map(tf_parse)\n",
        "    dataset = dataset.batch(batch)\n",
        "    dataset = dataset.repeat()\n",
        "    return dataset"
      ],
      "execution_count": null,
      "outputs": []
    },
    {
      "cell_type": "code",
      "metadata": {
        "id": "TtO0aPG_ymIx"
      },
      "source": [
        "#MODEL"
      ],
      "execution_count": null,
      "outputs": []
    },
    {
      "cell_type": "code",
      "metadata": {
        "id": "j2r4J3C_yoXq"
      },
      "source": [
        "import tensorflow as tf\n",
        "from tensorflow.keras.layers import *\n",
        "from tensorflow.keras.models import Model"
      ],
      "execution_count": null,
      "outputs": []
    },
    {
      "cell_type": "code",
      "metadata": {
        "id": "h0Uv--5NyqB1"
      },
      "source": [
        "def conv_block(x, num_filters):\n",
        "    x = Conv2D(num_filters, (3, 3), padding=\"same\")(x)\n",
        "    x = BatchNormalization()(x)\n",
        "    x = Activation(\"relu\")(x)\n",
        "\n",
        "    x = Conv2D(num_filters, (3, 3), padding=\"same\")(x)\n",
        "    x = BatchNormalization()(x)\n",
        "    x = Activation(\"relu\")(x)\n",
        "\n",
        "    return x"
      ],
      "execution_count": null,
      "outputs": []
    },
    {
      "cell_type": "code",
      "metadata": {
        "id": "1xTLdraWysUl"
      },
      "source": [
        "def build_model():\n",
        "    size = 256\n",
        "    num_filters = [32, 64, 128, 256, 512]\n",
        "    inputs = Input((size, size, 3))\n",
        "\n",
        "    skip_x = []\n",
        "    x = inputs\n",
        "\n",
        "    ## Encoder\n",
        "    for f in num_filters:\n",
        "        x = conv_block(x, f)\n",
        "        skip_x.append(x)\n",
        "        x = MaxPool2D((2, 2))(x)\n",
        "\n",
        "    ## Bridge\n",
        "    x = conv_block(x, num_filters[-1])\n",
        "\n",
        "    num_filters.reverse()\n",
        "    skip_x.reverse()\n",
        "\n",
        "    ## Decoder\n",
        "    for i, f in enumerate(num_filters):\n",
        "        x = UpSampling2D((2, 2))(x)\n",
        "        xs = skip_x[i]\n",
        "        x = Concatenate()([x, xs])\n",
        "        x = conv_block(x, f)\n",
        "\n",
        "    ## Output\n",
        "    x = Conv2D(1, (1, 1), padding=\"same\")(x)\n",
        "    x = Activation(\"sigmoid\")(x)\n",
        "\n",
        "    return Model(inputs, x)"
      ],
      "execution_count": null,
      "outputs": []
    },
    {
      "cell_type": "code",
      "metadata": {
        "id": "AIE0QkvjyuS0"
      },
      "source": [
        "#TRAIN"
      ],
      "execution_count": null,
      "outputs": []
    },
    {
      "cell_type": "code",
      "metadata": {
        "id": "Qu0YoI8zyvRx"
      },
      "source": [
        "import os\n",
        "import numpy as np\n",
        "import cv2\n",
        "from glob import glob\n",
        "import tensorflow as tf\n",
        "from tensorflow.keras.callbacks import EarlyStopping, ModelCheckpoint, ReduceLROnPlateau, CSVLogger, TensorBoard"
      ],
      "execution_count": null,
      "outputs": []
    },
    {
      "cell_type": "code",
      "metadata": {
        "id": "zx9VMnaYyxOt"
      },
      "source": [
        "def iou(y_true, y_pred):\n",
        "     def f(y_true, y_pred):\n",
        "         intersection = (y_true * y_pred).sum()\n",
        "         union = y_true.sum() + y_pred.sum() - intersection\n",
        "         x = (intersection + 1e-15) / (union + 1e-15)\n",
        "         x = x.astype(np.float32)\n",
        "         return x\n",
        "         \n",
        "     return tf.numpy_function(f, [y_true, y_pred], tf.float32)"
      ],
      "execution_count": null,
      "outputs": []
    },
    {
      "cell_type": "code",
      "metadata": {
        "id": "AsqaZrbMyzDd"
      },
      "source": [
        "if __name__ == \"__main__\":\n",
        "     ## Dataset\n",
        "     path = \"/content/drive/My Drive/mouse_dataset/\"\n",
        "     (train_x, train_y), (valid_x, valid_y), (test_x, test_y) = load_data(path)"
      ],
      "execution_count": null,
      "outputs": []
    },
    {
      "cell_type": "code",
      "metadata": {
        "id": "yuzeKUDXYASA"
      },
      "source": [
        "# loss=\"binary_crossentropy\"\n",
        "\n",
        "# learning_rates = [1e-4, 1e-3, 1e-5]\n",
        "# diff_num_filters = [[16, 32, 48, 64], [32, 64, 128, 256], [32, 64, 128, 256, 512]]\n",
        "# batches = [4, 8, 16, 32]\n",
        "# diff_epochs = [100]\n",
        "# size = 256\n",
        "\n",
        "# best_hparams = None\n",
        "# best_loss = sys.maxsize\n",
        "\n",
        "# for lr in learning_rates:\n",
        "#   for num_filters in diff_num_filters:\n",
        "#     for batch in batches:\n",
        "#       for epochs in diff_epochs:\n",
        "#         (train_x, train_y), (valid_x, valid_y), (test_x, test_y) = load_data(path)\n",
        "#         train_dataset = tf_dataset(train_x, train_y, batch=batch)\n",
        "#         valid_dataset = tf_dataset(valid_x, valid_y, batch=batch)\n",
        "#         train_steps = len(train_x)//batch\n",
        "#         valid_steps = len(valid_x)//batch\n",
        "\n",
        "#         if len(train_x) % batch != 0:\n",
        "#             train_steps += 1\n",
        "#         if len(valid_x) % batch != 0:\n",
        "#             valid_steps += 1\n",
        "\n",
        "\n",
        "#         identyfikator=str(time.time())\n",
        "#         print(identyfikator)\n",
        "#         print(f\"lr={lr}, num_filters={num_filters}, batch={batch}, epochs={epochs}, size={size}\")\n",
        "\n",
        "#         model=build_and_compile(size, num_filters, lr, loss)\n",
        "        \n",
        "\n",
        "#         callbacks = [\n",
        "#               ModelCheckpoint(f\"/content/drive/My Drive/mouse_dataset/files/model-{identyfikator}.h5\"),\n",
        "#               ReduceLROnPlateau(monitor='val_loss', factor=0.1, patience=4),\n",
        "#               CSVLogger(f\"/content/drive/My Drive/mouse_dataset/files/data-{identyfikator}.csv\"),\n",
        "#               TensorBoard(),\n",
        "#               EarlyStopping(monitor='val_loss', patience=10, restore_best_weights=True)\n",
        "#         ]\n",
        "\n",
        "#         history=train(batch, train_x, valid_x, train_dataset, valid_dataset, model, epochs, callbacks)\n",
        "#         with open(f'/content/drive/My Drive/mouse_dataset/hist/hist-{identyfikator}', 'wb') as file_pi:\n",
        "#           pickle.dump(history.history, file_pi)\n",
        "#         val_loss=min(history.history['val_loss'])\n",
        "#         if best_hparams is None or val_loss < best_loss:\n",
        "#             best_hparams = (lr, num_filters, batch,  epochs, size)\n",
        "#             best_loss = val_loss\n",
        "#         print(f\"validation loss: {val_loss} for lr={lr}, num_filters={num_filters}, batch={batch}, epochs={epochs}, size={size}\")\n",
        "#         print(f\"best hparams: {best_hparams}\")\n",
        "\n",
        "# print(f\"/content/drive/My Drive/mouse_dataset/files/model-{identyfikator}.h5\")\n",
        "# print(f\"best hparams: {best_hparams}\")"
      ],
      "execution_count": null,
      "outputs": []
    },
    {
      "cell_type": "code",
      "metadata": {
        "id": "pXttUryLy1BX"
      },
      "source": [
        "## Hyperparameters\n",
        "\n",
        "# najlepsza architektura wyłoniona z 'hyperparameters tuning':\n",
        "\n",
        "# best hparams: (0.001, [32, 64, 128, 256, 512], 4, 70, 256)\n",
        "# /content/drive/My Drive/mouse_dataset/files/model-1621109156.8693182.h5\n",
        "# 1621110217.655524\n",
        "\n",
        "batch = 4\n",
        "lr = 0.001\n",
        "epochs = 70"
      ],
      "execution_count": null,
      "outputs": []
    },
    {
      "cell_type": "code",
      "metadata": {
        "id": "JXt7eoVxy5ls"
      },
      "source": [
        "train_dataset = tf_dataset(train_x, train_y, batch=batch)\n",
        "valid_dataset = tf_dataset(valid_x, valid_y, batch=batch)"
      ],
      "execution_count": null,
      "outputs": []
    },
    {
      "cell_type": "code",
      "metadata": {
        "id": "Dc4Q5EdZy9M9"
      },
      "source": [
        "model = build_model()\n",
        "opt = tf.keras.optimizers.Adam(lr)\n",
        "metrics = [\"acc\", tf.keras.metrics.Recall(), tf.keras.metrics.Precision(), iou]\n",
        "model.compile(loss=\"binary_crossentropy\", optimizer=opt, metrics=metrics)"
      ],
      "execution_count": null,
      "outputs": []
    },
    {
      "cell_type": "code",
      "metadata": {
        "id": "w-bdWUGUy-7Q"
      },
      "source": [
        "callbacks = [\n",
        "          ModelCheckpoint(\"/content/drive/My Drive/mouse_dataset/best archi/files/model.h5\"),\n",
        "          ReduceLROnPlateau(monitor='val_loss', factor=0.1, patience=4),\n",
        "          CSVLogger(\"/content/drive/My Drive/mouse_dataset/best archi/files/data.csv\"),\n",
        "          TensorBoard(),\n",
        "          EarlyStopping(monitor='val_loss', patience=10, restore_best_weights=True)\n",
        "     ]"
      ],
      "execution_count": null,
      "outputs": []
    },
    {
      "cell_type": "code",
      "metadata": {
        "id": "E57dyXTPzAxH",
        "colab": {
          "base_uri": "https://localhost:8080/"
        },
        "outputId": "d56dfe4f-36d0-4d52-e5ec-b5a88a0bc875"
      },
      "source": [
        "train_steps = len(train_x)//batch\n",
        "valid_steps = len(valid_x)//batch\n",
        "\n",
        "if len(train_x) % batch != 0:\n",
        "    train_steps += 1\n",
        "if len(valid_x) % batch != 0:\n",
        "    valid_steps += 1\n",
        "\n",
        "history = model.fit(train_dataset,\n",
        "    validation_data=valid_dataset,\n",
        "    epochs=epochs,\n",
        "    steps_per_epoch=train_steps,\n",
        "    validation_steps=valid_steps,\n",
        "    callbacks=callbacks)"
      ],
      "execution_count": null,
      "outputs": [
        {
          "output_type": "stream",
          "text": [
            "Epoch 1/70\n",
            "85/85 [==============================] - 257s 3s/step - loss: 0.3820 - acc: 0.8631 - recall: 0.7082 - precision: 0.3403 - iou: 0.1462 - val_loss: 550.5726 - val_acc: 0.0661 - val_recall: 1.0000 - val_precision: 0.0541 - val_iou: 0.0539\n",
            "Epoch 2/70\n",
            "85/85 [==============================] - 14s 165ms/step - loss: 0.1229 - acc: 0.9752 - recall: 0.7780 - precision: 0.7996 - iou: 0.2923 - val_loss: 13.5179 - val_acc: 0.4014 - val_recall: 0.8748 - val_precision: 0.0732 - val_iou: 0.0683\n",
            "Epoch 3/70\n",
            "85/85 [==============================] - 14s 165ms/step - loss: 0.0876 - acc: 0.9767 - recall: 0.7707 - precision: 0.8251 - iou: 0.3827 - val_loss: 0.3773 - val_acc: 0.8253 - val_recall: 0.8170 - val_precision: 0.2099 - val_iou: 0.1735\n",
            "Epoch 4/70\n",
            "85/85 [==============================] - 14s 163ms/step - loss: 0.0704 - acc: 0.9783 - recall: 0.7851 - precision: 0.8386 - iou: 0.4483 - val_loss: 23.6146 - val_acc: 0.3794 - val_recall: 0.9556 - val_precision: 0.0763 - val_iou: 0.0750\n",
            "Epoch 5/70\n",
            "85/85 [==============================] - 14s 164ms/step - loss: 0.0612 - acc: 0.9793 - recall: 0.8099 - precision: 0.8372 - iou: 0.5069 - val_loss: 0.0799 - val_acc: 0.9729 - val_recall: 0.7024 - val_precision: 0.7747 - val_iou: 0.4155\n",
            "Epoch 6/70\n",
            "85/85 [==============================] - 14s 164ms/step - loss: 0.0554 - acc: 0.9804 - recall: 0.8111 - precision: 0.8519 - iou: 0.5384 - val_loss: 0.0557 - val_acc: 0.9790 - val_recall: 0.7842 - val_precision: 0.8233 - val_iou: 0.5283\n",
            "Epoch 7/70\n",
            "85/85 [==============================] - 14s 166ms/step - loss: 0.0512 - acc: 0.9809 - recall: 0.8216 - precision: 0.8517 - iou: 0.5645 - val_loss: 0.0557 - val_acc: 0.9787 - val_recall: 0.7380 - val_precision: 0.8502 - val_iou: 0.5256\n",
            "Epoch 8/70\n",
            "85/85 [==============================] - 14s 164ms/step - loss: 0.0486 - acc: 0.9813 - recall: 0.8324 - precision: 0.8504 - iou: 0.5825 - val_loss: 0.0729 - val_acc: 0.9708 - val_recall: 0.5071 - val_precision: 0.9093 - val_iou: 0.4063\n",
            "Epoch 9/70\n",
            "85/85 [==============================] - 14s 164ms/step - loss: 0.0471 - acc: 0.9815 - recall: 0.8236 - precision: 0.8598 - iou: 0.5938 - val_loss: 0.0899 - val_acc: 0.9614 - val_recall: 0.2831 - val_precision: 0.9773 - val_iou: 0.3115\n",
            "Epoch 10/70\n",
            "85/85 [==============================] - 14s 164ms/step - loss: 0.0470 - acc: 0.9813 - recall: 0.8270 - precision: 0.8553 - iou: 0.5999 - val_loss: 0.0701 - val_acc: 0.9773 - val_recall: 0.7318 - val_precision: 0.8319 - val_iou: 0.5803\n",
            "Epoch 11/70\n",
            "85/85 [==============================] - 15s 167ms/step - loss: 0.0449 - acc: 0.9821 - recall: 0.8028 - precision: 0.8876 - iou: 0.6147 - val_loss: 0.0445 - val_acc: 0.9824 - val_recall: 0.8899 - val_precision: 0.8111 - val_iou: 0.6499\n",
            "Epoch 12/70\n",
            "85/85 [==============================] - 14s 164ms/step - loss: 0.0397 - acc: 0.9843 - recall: 0.8583 - precision: 0.8778 - iou: 0.6534 - val_loss: 0.0418 - val_acc: 0.9831 - val_recall: 0.8530 - val_precision: 0.8424 - val_iou: 0.6369\n",
            "Epoch 13/70\n",
            "85/85 [==============================] - 14s 165ms/step - loss: 0.0387 - acc: 0.9846 - recall: 0.8597 - precision: 0.8818 - iou: 0.6601 - val_loss: 0.0426 - val_acc: 0.9830 - val_recall: 0.8305 - val_precision: 0.8553 - val_iou: 0.6278\n",
            "Epoch 14/70\n",
            "85/85 [==============================] - 14s 163ms/step - loss: 0.0374 - acc: 0.9851 - recall: 0.8628 - precision: 0.8858 - iou: 0.6673 - val_loss: 0.0439 - val_acc: 0.9828 - val_recall: 0.8173 - val_precision: 0.8622 - val_iou: 0.6227\n",
            "Epoch 15/70\n",
            "85/85 [==============================] - 14s 164ms/step - loss: 0.0363 - acc: 0.9855 - recall: 0.8683 - precision: 0.8884 - iou: 0.6746 - val_loss: 0.0447 - val_acc: 0.9828 - val_recall: 0.8126 - val_precision: 0.8655 - val_iou: 0.6222\n",
            "Epoch 16/70\n",
            "85/85 [==============================] - 14s 164ms/step - loss: 0.0354 - acc: 0.9859 - recall: 0.8716 - precision: 0.8915 - iou: 0.6814 - val_loss: 0.0454 - val_acc: 0.9829 - val_recall: 0.8090 - val_precision: 0.8687 - val_iou: 0.6232\n",
            "Epoch 17/70\n",
            "85/85 [==============================] - 14s 165ms/step - loss: 0.0341 - acc: 0.9863 - recall: 0.8808 - precision: 0.8915 - iou: 0.6962 - val_loss: 0.0449 - val_acc: 0.9830 - val_recall: 0.8276 - val_precision: 0.8582 - val_iou: 0.6324\n",
            "Epoch 18/70\n",
            "85/85 [==============================] - 14s 164ms/step - loss: 0.0337 - acc: 0.9864 - recall: 0.8828 - precision: 0.8921 - iou: 0.6953 - val_loss: 0.0448 - val_acc: 0.9831 - val_recall: 0.8358 - val_precision: 0.8531 - val_iou: 0.6352\n",
            "Epoch 19/70\n",
            "85/85 [==============================] - 14s 164ms/step - loss: 0.0335 - acc: 0.9865 - recall: 0.8831 - precision: 0.8934 - iou: 0.6951 - val_loss: 0.0448 - val_acc: 0.9831 - val_recall: 0.8391 - val_precision: 0.8512 - val_iou: 0.6361\n",
            "Epoch 20/70\n",
            "85/85 [==============================] - 14s 165ms/step - loss: 0.0333 - acc: 0.9866 - recall: 0.8831 - precision: 0.8945 - iou: 0.6953 - val_loss: 0.0449 - val_acc: 0.9831 - val_recall: 0.8405 - val_precision: 0.8508 - val_iou: 0.6366\n",
            "Epoch 21/70\n",
            "85/85 [==============================] - 14s 165ms/step - loss: 0.0331 - acc: 0.9867 - recall: 0.8861 - precision: 0.8936 - iou: 0.6967 - val_loss: 0.0451 - val_acc: 0.9831 - val_recall: 0.8426 - val_precision: 0.8490 - val_iou: 0.6387\n",
            "Epoch 22/70\n",
            "85/85 [==============================] - 14s 165ms/step - loss: 0.0330 - acc: 0.9867 - recall: 0.8852 - precision: 0.8946 - iou: 0.6969 - val_loss: 0.0452 - val_acc: 0.9831 - val_recall: 0.8429 - val_precision: 0.8487 - val_iou: 0.6395\n"
          ],
          "name": "stdout"
        }
      ]
    },
    {
      "cell_type": "code",
      "metadata": {
        "id": "fCcIxqtazC0d"
      },
      "source": [
        "#PREDICT"
      ],
      "execution_count": null,
      "outputs": []
    },
    {
      "cell_type": "code",
      "metadata": {
        "id": "N5SNBA-NzEwy"
      },
      "source": [
        "import os\n",
        "import numpy as np\n",
        "import cv2\n",
        "import tensorflow as tf\n",
        "from tensorflow.keras.utils import CustomObjectScope\n",
        "from tqdm import tqdm"
      ],
      "execution_count": null,
      "outputs": []
    },
    {
      "cell_type": "code",
      "metadata": {
        "id": "ZlFzLaOzzGk9"
      },
      "source": [
        "def read_image(path):\n",
        "     x = cv2.imread(path, cv2.IMREAD_COLOR)\n",
        "     x = cv2.resize(x, (256, 256))\n",
        "     x = x/255.0\n",
        "     return x\n",
        "\n",
        "def read_mask(path):\n",
        "    x = cv2.imread(path, cv2.IMREAD_GRAYSCALE)\n",
        "    x = cv2.resize(x, (256, 256))\n",
        "    x = np.expand_dims(x, axis=-1)\n",
        "    return x"
      ],
      "execution_count": null,
      "outputs": []
    },
    {
      "cell_type": "code",
      "metadata": {
        "id": "JQcEZK4_zH-r"
      },
      "source": [
        "def mask_parse(mask):\n",
        "     mask = np.squeeze(mask)\n",
        "     mask = [mask, mask, mask]\n",
        "     mask = np.transpose(mask, (1, 2, 0))\n",
        "     return mask"
      ],
      "execution_count": null,
      "outputs": []
    },
    {
      "cell_type": "code",
      "metadata": {
        "id": "7y4NK9FAQc36"
      },
      "source": [
        "if __name__ == \"__main__\":\n",
        "     ## Dataset\n",
        "     path = \"/content/drive/My Drive/mouse_dataset/\"\n",
        "     batch_size = 4\n",
        "     (train_x, train_y), (valid_x, valid_y), (test_x, test_y) = load_data(path)"
      ],
      "execution_count": null,
      "outputs": []
    },
    {
      "cell_type": "code",
      "metadata": {
        "id": "beE14KkOzLDp"
      },
      "source": [
        "test_dataset = tf_dataset(test_x, test_y, batch=batch_size)\n",
        "\n",
        "test_steps = (len(test_x)//batch_size)\n",
        "if len(test_x) % batch_size != 0:\n",
        "    test_steps += 1"
      ],
      "execution_count": null,
      "outputs": []
    },
    {
      "cell_type": "code",
      "metadata": {
        "id": "W_nJfXPCKxVG"
      },
      "source": [
        " from sklearn.metrics import confusion_matrix  \n",
        " import numpy as np\n",
        "\n",
        " def compute_iou(y_pred, y_true):\n",
        "     # ytrue, ypred is a flatten vector\n",
        "     y_pred = y_pred.flatten()\n",
        "     y_true = y_true.flatten()\n",
        "     current = confusion_matrix(y_true, y_pred, labels=[0, 1])\n",
        "     # compute mean iou\n",
        "     intersection = np.diag(current)\n",
        "     ground_truth_set = current.sum(axis=1)\n",
        "     predicted_set = current.sum(axis=0)\n",
        "     union = ground_truth_set + predicted_set - intersection\n",
        "     IoU = intersection / union.astype(np.float32)\n",
        "     return np.mean(IoU)"
      ],
      "execution_count": null,
      "outputs": []
    },
    {
      "cell_type": "code",
      "metadata": {
        "id": "auoYveMwzMe5"
      },
      "source": [
        "with CustomObjectScope({'iou': iou}):\n",
        "    model = tf.keras.models.load_model(\"/content/drive/My Drive/mouse_dataset/best archi/files/model.h5\")"
      ],
      "execution_count": null,
      "outputs": []
    },
    {
      "cell_type": "code",
      "metadata": {
        "id": "IGeXU2MYzQDS",
        "colab": {
          "base_uri": "https://localhost:8080/"
        },
        "outputId": "d9dfb8c0-6a5a-43f1-a976-98f657c9426e"
      },
      "source": [
        "for i, (x, y) in tqdm(enumerate(zip(test_x, test_y)), total=len(test_x)):\n",
        "          x = read_image(x)\n",
        "          y = read_mask(y)\n",
        "          y_pred = model.predict(np.expand_dims(x, axis=0))[0] > 0.5\n",
        "          h, w, _ = x.shape\n",
        "          white_line = np.ones((h, 10, 3)) * 255.0\n",
        "          all_images = [\n",
        "            x * 255.0, white_line,\n",
        "            mask_parse(y), white_line,\n",
        "            mask_parse(y_pred) * 255.0\n",
        "          ]\n",
        "          image = np.concatenate(all_images, axis=1)\n",
        "          x_255=x*255.0\n",
        "          cv2.imwrite(f\"/content/drive/My Drive/mouse_dataset/best archi/testGT/{i}.jpg\", y)\n",
        "          cv2.imwrite(f\"/content/drive/My Drive/mouse_dataset/best archi/testInput/{i}.jpg\", x_255)  \n",
        "          # cv2.imwrite(f\"/content/drive/My Drive/mouse_dataset/testOutput/{i}.jpg\", y_pred)                 \n",
        "          cv2.imwrite(f\"/content/drive/My Drive/mouse_dataset/best archi/results/{i}.jpg\", image)\n",
        "          iou_=compute_iou(y, y_pred)\n",
        "          print(iou_)"
      ],
      "execution_count": null,
      "outputs": [
        {
          "output_type": "stream",
          "text": [
            "  1%|          | 1/113 [00:00<00:27,  4.05it/s]"
          ],
          "name": "stderr"
        },
        {
          "output_type": "stream",
          "text": [
            "0.507946957057\n"
          ],
          "name": "stdout"
        },
        {
          "output_type": "stream",
          "text": [
            "\r  2%|▏         | 2/113 [00:00<00:27,  4.08it/s]"
          ],
          "name": "stderr"
        },
        {
          "output_type": "stream",
          "text": [
            "0.5100138907360612\n"
          ],
          "name": "stdout"
        },
        {
          "output_type": "stream",
          "text": [
            "\r  3%|▎         | 3/113 [00:00<00:27,  4.05it/s]"
          ],
          "name": "stderr"
        },
        {
          "output_type": "stream",
          "text": [
            "0.5144000357060572\n"
          ],
          "name": "stdout"
        },
        {
          "output_type": "stream",
          "text": [
            "\r  4%|▎         | 4/113 [00:00<00:26,  4.07it/s]"
          ],
          "name": "stderr"
        },
        {
          "output_type": "stream",
          "text": [
            "0.49584285297098585\n"
          ],
          "name": "stdout"
        },
        {
          "output_type": "stream",
          "text": [
            "\r  4%|▍         | 5/113 [00:01<00:30,  3.56it/s]"
          ],
          "name": "stderr"
        },
        {
          "output_type": "stream",
          "text": [
            "0.5038441885737047\n"
          ],
          "name": "stdout"
        },
        {
          "output_type": "stream",
          "text": [
            "\r  5%|▌         | 6/113 [00:01<00:28,  3.72it/s]"
          ],
          "name": "stderr"
        },
        {
          "output_type": "stream",
          "text": [
            "0.4999686917862901\n"
          ],
          "name": "stdout"
        },
        {
          "output_type": "stream",
          "text": [
            "\r  6%|▌         | 7/113 [00:01<00:28,  3.78it/s]"
          ],
          "name": "stderr"
        },
        {
          "output_type": "stream",
          "text": [
            "0.4929668517228166\n"
          ],
          "name": "stdout"
        },
        {
          "output_type": "stream",
          "text": [
            "\r  7%|▋         | 8/113 [00:02<00:27,  3.84it/s]"
          ],
          "name": "stderr"
        },
        {
          "output_type": "stream",
          "text": [
            "0.5080038352599049\n"
          ],
          "name": "stdout"
        },
        {
          "output_type": "stream",
          "text": [
            "\r  8%|▊         | 9/113 [00:02<00:26,  3.87it/s]"
          ],
          "name": "stderr"
        },
        {
          "output_type": "stream",
          "text": [
            "0.5001077585360084\n"
          ],
          "name": "stdout"
        },
        {
          "output_type": "stream",
          "text": [
            "\r  9%|▉         | 10/113 [00:02<00:26,  3.95it/s]"
          ],
          "name": "stderr"
        },
        {
          "output_type": "stream",
          "text": [
            "0.5028102908988608\n"
          ],
          "name": "stdout"
        },
        {
          "output_type": "stream",
          "text": [
            "\r 10%|▉         | 11/113 [00:02<00:25,  3.93it/s]"
          ],
          "name": "stderr"
        },
        {
          "output_type": "stream",
          "text": [
            "0.5044189328913032\n"
          ],
          "name": "stdout"
        },
        {
          "output_type": "stream",
          "text": [
            "\r 11%|█         | 12/113 [00:03<00:25,  3.95it/s]"
          ],
          "name": "stderr"
        },
        {
          "output_type": "stream",
          "text": [
            "0.562443859874246\n"
          ],
          "name": "stdout"
        },
        {
          "output_type": "stream",
          "text": [
            "\r 12%|█▏        | 13/113 [00:03<00:24,  4.01it/s]"
          ],
          "name": "stderr"
        },
        {
          "output_type": "stream",
          "text": [
            "0.5017934908674127\n"
          ],
          "name": "stdout"
        },
        {
          "output_type": "stream",
          "text": [
            "\r 12%|█▏        | 14/113 [00:03<00:24,  4.02it/s]"
          ],
          "name": "stderr"
        },
        {
          "output_type": "stream",
          "text": [
            "0.502386940592349\n"
          ],
          "name": "stdout"
        },
        {
          "output_type": "stream",
          "text": [
            "\r 13%|█▎        | 15/113 [00:03<00:24,  4.02it/s]"
          ],
          "name": "stderr"
        },
        {
          "output_type": "stream",
          "text": [
            "0.5001486162834162\n"
          ],
          "name": "stdout"
        },
        {
          "output_type": "stream",
          "text": [
            "\r 14%|█▍        | 16/113 [00:04<00:23,  4.06it/s]"
          ],
          "name": "stderr"
        },
        {
          "output_type": "stream",
          "text": [
            "0.5034837981152124\n"
          ],
          "name": "stdout"
        },
        {
          "output_type": "stream",
          "text": [
            "\r 15%|█▌        | 17/113 [00:04<00:23,  4.02it/s]"
          ],
          "name": "stderr"
        },
        {
          "output_type": "stream",
          "text": [
            "0.5019019155751893\n"
          ],
          "name": "stdout"
        },
        {
          "output_type": "stream",
          "text": [
            "\r 16%|█▌        | 18/113 [00:04<00:27,  3.45it/s]"
          ],
          "name": "stderr"
        },
        {
          "output_type": "stream",
          "text": [
            "0.4999360327512314\n"
          ],
          "name": "stdout"
        },
        {
          "output_type": "stream",
          "text": [
            "\r 17%|█▋        | 19/113 [00:04<00:26,  3.59it/s]"
          ],
          "name": "stderr"
        },
        {
          "output_type": "stream",
          "text": [
            "0.4964079866558769\n"
          ],
          "name": "stdout"
        },
        {
          "output_type": "stream",
          "text": [
            "\r 18%|█▊        | 20/113 [00:05<00:25,  3.65it/s]"
          ],
          "name": "stderr"
        },
        {
          "output_type": "stream",
          "text": [
            "0.4995203055461193\n"
          ],
          "name": "stdout"
        },
        {
          "output_type": "stream",
          "text": [
            "\r 19%|█▊        | 21/113 [00:05<00:24,  3.77it/s]"
          ],
          "name": "stderr"
        },
        {
          "output_type": "stream",
          "text": [
            "0.5014636209686373\n"
          ],
          "name": "stdout"
        },
        {
          "output_type": "stream",
          "text": [
            "\r 19%|█▉        | 22/113 [00:05<00:23,  3.86it/s]"
          ],
          "name": "stderr"
        },
        {
          "output_type": "stream",
          "text": [
            "0.4931191974629049\n"
          ],
          "name": "stdout"
        },
        {
          "output_type": "stream",
          "text": [
            "\r 20%|██        | 23/113 [00:05<00:23,  3.80it/s]"
          ],
          "name": "stderr"
        },
        {
          "output_type": "stream",
          "text": [
            "0.5027041576178422\n"
          ],
          "name": "stdout"
        },
        {
          "output_type": "stream",
          "text": [
            "\r 21%|██        | 24/113 [00:06<00:26,  3.32it/s]"
          ],
          "name": "stderr"
        },
        {
          "output_type": "stream",
          "text": [
            "0.5033194929618222\n"
          ],
          "name": "stdout"
        },
        {
          "output_type": "stream",
          "text": [
            "\r 22%|██▏       | 25/113 [00:06<00:24,  3.54it/s]"
          ],
          "name": "stderr"
        },
        {
          "output_type": "stream",
          "text": [
            "0.4992405253853023\n"
          ],
          "name": "stdout"
        },
        {
          "output_type": "stream",
          "text": [
            "\r 23%|██▎       | 26/113 [00:06<00:23,  3.65it/s]"
          ],
          "name": "stderr"
        },
        {
          "output_type": "stream",
          "text": [
            "0.493813703662944\n"
          ],
          "name": "stdout"
        },
        {
          "output_type": "stream",
          "text": [
            "\r 24%|██▍       | 27/113 [00:07<00:22,  3.77it/s]"
          ],
          "name": "stderr"
        },
        {
          "output_type": "stream",
          "text": [
            "0.5028320734645769\n"
          ],
          "name": "stdout"
        },
        {
          "output_type": "stream",
          "text": [
            "\r 25%|██▍       | 28/113 [00:07<00:22,  3.80it/s]"
          ],
          "name": "stderr"
        },
        {
          "output_type": "stream",
          "text": [
            "0.4986913963673163\n"
          ],
          "name": "stdout"
        },
        {
          "output_type": "stream",
          "text": [
            "\r 26%|██▌       | 29/113 [00:07<00:22,  3.77it/s]"
          ],
          "name": "stderr"
        },
        {
          "output_type": "stream",
          "text": [
            "0.4989163775298659\n"
          ],
          "name": "stdout"
        },
        {
          "output_type": "stream",
          "text": [
            "\r 27%|██▋       | 30/113 [00:08<00:24,  3.36it/s]"
          ],
          "name": "stderr"
        },
        {
          "output_type": "stream",
          "text": [
            "0.49690567090284676\n"
          ],
          "name": "stdout"
        },
        {
          "output_type": "stream",
          "text": [
            "\r 27%|██▋       | 31/113 [00:08<00:23,  3.57it/s]"
          ],
          "name": "stderr"
        },
        {
          "output_type": "stream",
          "text": [
            "0.49965395139224206\n"
          ],
          "name": "stdout"
        },
        {
          "output_type": "stream",
          "text": [
            "\r 28%|██▊       | 32/113 [00:08<00:21,  3.71it/s]"
          ],
          "name": "stderr"
        },
        {
          "output_type": "stream",
          "text": [
            "0.49912355505021794\n"
          ],
          "name": "stdout"
        },
        {
          "output_type": "stream",
          "text": [
            "\r 29%|██▉       | 33/113 [00:08<00:20,  3.82it/s]"
          ],
          "name": "stderr"
        },
        {
          "output_type": "stream",
          "text": [
            "0.5122231694266591\n"
          ],
          "name": "stdout"
        },
        {
          "output_type": "stream",
          "text": [
            "\r 30%|███       | 34/113 [00:09<00:21,  3.75it/s]"
          ],
          "name": "stderr"
        },
        {
          "output_type": "stream",
          "text": [
            "0.49056166728980116\n"
          ],
          "name": "stdout"
        },
        {
          "output_type": "stream",
          "text": [
            "\r 31%|███       | 35/113 [00:09<00:20,  3.80it/s]"
          ],
          "name": "stderr"
        },
        {
          "output_type": "stream",
          "text": [
            "0.5116494758438492\n"
          ],
          "name": "stdout"
        },
        {
          "output_type": "stream",
          "text": [
            "\r 32%|███▏      | 36/113 [00:09<00:22,  3.38it/s]"
          ],
          "name": "stderr"
        },
        {
          "output_type": "stream",
          "text": [
            "0.5050060413219843\n"
          ],
          "name": "stdout"
        },
        {
          "output_type": "stream",
          "text": [
            "\r 33%|███▎      | 37/113 [00:09<00:21,  3.53it/s]"
          ],
          "name": "stderr"
        },
        {
          "output_type": "stream",
          "text": [
            "0.5311283237885105\n"
          ],
          "name": "stdout"
        },
        {
          "output_type": "stream",
          "text": [
            "\r 34%|███▎      | 38/113 [00:10<00:20,  3.58it/s]"
          ],
          "name": "stderr"
        },
        {
          "output_type": "stream",
          "text": [
            "0.48926148792101926\n"
          ],
          "name": "stdout"
        },
        {
          "output_type": "stream",
          "text": [
            "\r 35%|███▍      | 39/113 [00:10<00:19,  3.72it/s]"
          ],
          "name": "stderr"
        },
        {
          "output_type": "stream",
          "text": [
            "0.4873708690037783\n"
          ],
          "name": "stdout"
        },
        {
          "output_type": "stream",
          "text": [
            "\r 35%|███▌      | 40/113 [00:10<00:19,  3.80it/s]"
          ],
          "name": "stderr"
        },
        {
          "output_type": "stream",
          "text": [
            "0.49636011244658995\n"
          ],
          "name": "stdout"
        },
        {
          "output_type": "stream",
          "text": [
            "\r 36%|███▋      | 41/113 [00:10<00:18,  3.85it/s]"
          ],
          "name": "stderr"
        },
        {
          "output_type": "stream",
          "text": [
            "0.49995308614946754\n"
          ],
          "name": "stdout"
        },
        {
          "output_type": "stream",
          "text": [
            "\r 37%|███▋      | 42/113 [00:11<00:19,  3.63it/s]"
          ],
          "name": "stderr"
        },
        {
          "output_type": "stream",
          "text": [
            "0.5008803602306485\n"
          ],
          "name": "stdout"
        },
        {
          "output_type": "stream",
          "text": [
            "\r 38%|███▊      | 43/113 [00:11<00:18,  3.75it/s]"
          ],
          "name": "stderr"
        },
        {
          "output_type": "stream",
          "text": [
            "0.5018830289234978\n"
          ],
          "name": "stdout"
        },
        {
          "output_type": "stream",
          "text": [
            "\r 39%|███▉      | 44/113 [00:11<00:18,  3.71it/s]"
          ],
          "name": "stderr"
        },
        {
          "output_type": "stream",
          "text": [
            "0.49739096824067514\n"
          ],
          "name": "stdout"
        },
        {
          "output_type": "stream",
          "text": [
            "\r 40%|███▉      | 45/113 [00:12<00:17,  3.78it/s]"
          ],
          "name": "stderr"
        },
        {
          "output_type": "stream",
          "text": [
            "0.49699581392069536\n"
          ],
          "name": "stdout"
        },
        {
          "output_type": "stream",
          "text": [
            "\r 41%|████      | 46/113 [00:12<00:17,  3.85it/s]"
          ],
          "name": "stderr"
        },
        {
          "output_type": "stream",
          "text": [
            "0.49698276925626744\n"
          ],
          "name": "stdout"
        },
        {
          "output_type": "stream",
          "text": [
            "\r 42%|████▏     | 47/113 [00:12<00:16,  3.90it/s]"
          ],
          "name": "stderr"
        },
        {
          "output_type": "stream",
          "text": [
            "0.4993458695206721\n"
          ],
          "name": "stdout"
        },
        {
          "output_type": "stream",
          "text": [
            "\r 42%|████▏     | 48/113 [00:12<00:19,  3.36it/s]"
          ],
          "name": "stderr"
        },
        {
          "output_type": "stream",
          "text": [
            "0.5040584901245414\n"
          ],
          "name": "stdout"
        },
        {
          "output_type": "stream",
          "text": [
            "\r 43%|████▎     | 49/113 [00:13<00:18,  3.54it/s]"
          ],
          "name": "stderr"
        },
        {
          "output_type": "stream",
          "text": [
            "0.49875096230891297\n"
          ],
          "name": "stdout"
        },
        {
          "output_type": "stream",
          "text": [
            "\r 44%|████▍     | 50/113 [00:13<00:17,  3.64it/s]"
          ],
          "name": "stderr"
        },
        {
          "output_type": "stream",
          "text": [
            "0.5058162831585155\n"
          ],
          "name": "stdout"
        },
        {
          "output_type": "stream",
          "text": [
            "\r 45%|████▌     | 51/113 [00:13<00:16,  3.75it/s]"
          ],
          "name": "stderr"
        },
        {
          "output_type": "stream",
          "text": [
            "0.4944302394397427\n"
          ],
          "name": "stdout"
        },
        {
          "output_type": "stream",
          "text": [
            "\r 46%|████▌     | 52/113 [00:13<00:16,  3.81it/s]"
          ],
          "name": "stderr"
        },
        {
          "output_type": "stream",
          "text": [
            "0.503355427746112\n"
          ],
          "name": "stdout"
        },
        {
          "output_type": "stream",
          "text": [
            "\r 47%|████▋     | 53/113 [00:14<00:15,  3.85it/s]"
          ],
          "name": "stderr"
        },
        {
          "output_type": "stream",
          "text": [
            "0.4994890338809842\n"
          ],
          "name": "stdout"
        },
        {
          "output_type": "stream",
          "text": [
            "\r 48%|████▊     | 54/113 [00:14<00:18,  3.25it/s]"
          ],
          "name": "stderr"
        },
        {
          "output_type": "stream",
          "text": [
            "0.4987250675210951\n"
          ],
          "name": "stdout"
        },
        {
          "output_type": "stream",
          "text": [
            "\r 49%|████▊     | 55/113 [00:14<00:16,  3.44it/s]"
          ],
          "name": "stderr"
        },
        {
          "output_type": "stream",
          "text": [
            "0.4985925017298861\n"
          ],
          "name": "stdout"
        },
        {
          "output_type": "stream",
          "text": [
            "\r 50%|████▉     | 56/113 [00:15<00:15,  3.57it/s]"
          ],
          "name": "stderr"
        },
        {
          "output_type": "stream",
          "text": [
            "0.4828347441967659\n"
          ],
          "name": "stdout"
        },
        {
          "output_type": "stream",
          "text": [
            "\r 50%|█████     | 57/113 [00:15<00:15,  3.69it/s]"
          ],
          "name": "stderr"
        },
        {
          "output_type": "stream",
          "text": [
            "0.46996067920717494\n"
          ],
          "name": "stdout"
        },
        {
          "output_type": "stream",
          "text": [
            "\r 51%|█████▏    | 58/113 [00:15<00:14,  3.80it/s]"
          ],
          "name": "stderr"
        },
        {
          "output_type": "stream",
          "text": [
            "0.49578358306963444\n"
          ],
          "name": "stdout"
        },
        {
          "output_type": "stream",
          "text": [
            "\r 52%|█████▏    | 59/113 [00:15<00:13,  3.89it/s]"
          ],
          "name": "stderr"
        },
        {
          "output_type": "stream",
          "text": [
            "0.501553053089591\n"
          ],
          "name": "stdout"
        },
        {
          "output_type": "stream",
          "text": [
            "\r 53%|█████▎    | 60/113 [00:16<00:14,  3.62it/s]"
          ],
          "name": "stderr"
        },
        {
          "output_type": "stream",
          "text": [
            "0.49864005711760107\n"
          ],
          "name": "stdout"
        },
        {
          "output_type": "stream",
          "text": [
            "\r 54%|█████▍    | 61/113 [00:16<00:13,  3.73it/s]"
          ],
          "name": "stderr"
        },
        {
          "output_type": "stream",
          "text": [
            "0.49965943218056286\n"
          ],
          "name": "stdout"
        },
        {
          "output_type": "stream",
          "text": [
            "\r 55%|█████▍    | 62/113 [00:16<00:13,  3.73it/s]"
          ],
          "name": "stderr"
        },
        {
          "output_type": "stream",
          "text": [
            "0.5148688246446157\n"
          ],
          "name": "stdout"
        },
        {
          "output_type": "stream",
          "text": [
            "\r 56%|█████▌    | 63/113 [00:16<00:13,  3.81it/s]"
          ],
          "name": "stderr"
        },
        {
          "output_type": "stream",
          "text": [
            "0.4923038457331271\n"
          ],
          "name": "stdout"
        },
        {
          "output_type": "stream",
          "text": [
            "\r 57%|█████▋    | 64/113 [00:17<00:12,  3.87it/s]"
          ],
          "name": "stderr"
        },
        {
          "output_type": "stream",
          "text": [
            "0.4996589469581317\n"
          ],
          "name": "stdout"
        },
        {
          "output_type": "stream",
          "text": [
            "\r 58%|█████▊    | 65/113 [00:17<00:12,  3.90it/s]"
          ],
          "name": "stderr"
        },
        {
          "output_type": "stream",
          "text": [
            "0.4978610554231322\n"
          ],
          "name": "stdout"
        },
        {
          "output_type": "stream",
          "text": [
            "\r 58%|█████▊    | 66/113 [00:17<00:11,  3.92it/s]"
          ],
          "name": "stderr"
        },
        {
          "output_type": "stream",
          "text": [
            "0.49927984205075093\n"
          ],
          "name": "stdout"
        },
        {
          "output_type": "stream",
          "text": [
            "\r 59%|█████▉    | 67/113 [00:17<00:11,  3.94it/s]"
          ],
          "name": "stderr"
        },
        {
          "output_type": "stream",
          "text": [
            "0.49678168585913807\n"
          ],
          "name": "stdout"
        },
        {
          "output_type": "stream",
          "text": [
            "\r 60%|██████    | 68/113 [00:18<00:12,  3.69it/s]"
          ],
          "name": "stderr"
        },
        {
          "output_type": "stream",
          "text": [
            "0.49710890768667176\n"
          ],
          "name": "stdout"
        },
        {
          "output_type": "stream",
          "text": [
            "\r 61%|██████    | 69/113 [00:18<00:11,  3.67it/s]"
          ],
          "name": "stderr"
        },
        {
          "output_type": "stream",
          "text": [
            "0.4985526421896651\n"
          ],
          "name": "stdout"
        },
        {
          "output_type": "stream",
          "text": [
            "\r 62%|██████▏   | 70/113 [00:18<00:11,  3.79it/s]"
          ],
          "name": "stderr"
        },
        {
          "output_type": "stream",
          "text": [
            "0.49723730360832175\n"
          ],
          "name": "stdout"
        },
        {
          "output_type": "stream",
          "text": [
            "\r 63%|██████▎   | 71/113 [00:19<00:11,  3.79it/s]"
          ],
          "name": "stderr"
        },
        {
          "output_type": "stream",
          "text": [
            "0.49917644801228134\n"
          ],
          "name": "stdout"
        },
        {
          "output_type": "stream",
          "text": [
            "\r 64%|██████▎   | 72/113 [00:19<00:10,  3.79it/s]"
          ],
          "name": "stderr"
        },
        {
          "output_type": "stream",
          "text": [
            "0.5030159042570077\n"
          ],
          "name": "stdout"
        },
        {
          "output_type": "stream",
          "text": [
            "\r 65%|██████▍   | 73/113 [00:19<00:10,  3.86it/s]"
          ],
          "name": "stderr"
        },
        {
          "output_type": "stream",
          "text": [
            "0.5006831150044202\n"
          ],
          "name": "stdout"
        },
        {
          "output_type": "stream",
          "text": [
            "\r 65%|██████▌   | 74/113 [00:19<00:09,  3.95it/s]"
          ],
          "name": "stderr"
        },
        {
          "output_type": "stream",
          "text": [
            "0.47876124647815355\n"
          ],
          "name": "stdout"
        },
        {
          "output_type": "stream",
          "text": [
            "\r 66%|██████▋   | 75/113 [00:20<00:09,  3.96it/s]"
          ],
          "name": "stderr"
        },
        {
          "output_type": "stream",
          "text": [
            "0.5019080549473954\n"
          ],
          "name": "stdout"
        },
        {
          "output_type": "stream",
          "text": [
            "\r 67%|██████▋   | 76/113 [00:20<00:09,  3.89it/s]"
          ],
          "name": "stderr"
        },
        {
          "output_type": "stream",
          "text": [
            "0.4999754263527793\n"
          ],
          "name": "stdout"
        },
        {
          "output_type": "stream",
          "text": [
            "\r 68%|██████▊   | 77/113 [00:20<00:10,  3.35it/s]"
          ],
          "name": "stderr"
        },
        {
          "output_type": "stream",
          "text": [
            "0.49933779061417927\n"
          ],
          "name": "stdout"
        },
        {
          "output_type": "stream",
          "text": [
            "\r 69%|██████▉   | 78/113 [00:20<00:09,  3.53it/s]"
          ],
          "name": "stderr"
        },
        {
          "output_type": "stream",
          "text": [
            "0.5071313273792105\n"
          ],
          "name": "stdout"
        },
        {
          "output_type": "stream",
          "text": [
            "\r 70%|██████▉   | 79/113 [00:21<00:09,  3.65it/s]"
          ],
          "name": "stderr"
        },
        {
          "output_type": "stream",
          "text": [
            "0.49977493797358713\n"
          ],
          "name": "stdout"
        },
        {
          "output_type": "stream",
          "text": [
            "\r 71%|███████   | 80/113 [00:21<00:09,  3.64it/s]"
          ],
          "name": "stderr"
        },
        {
          "output_type": "stream",
          "text": [
            "0.4988449671259874\n"
          ],
          "name": "stdout"
        },
        {
          "output_type": "stream",
          "text": [
            "\r 72%|███████▏  | 81/113 [00:21<00:08,  3.75it/s]"
          ],
          "name": "stderr"
        },
        {
          "output_type": "stream",
          "text": [
            "0.5051884989158809\n"
          ],
          "name": "stdout"
        },
        {
          "output_type": "stream",
          "text": [
            "\r 73%|███████▎  | 82/113 [00:21<00:08,  3.78it/s]"
          ],
          "name": "stderr"
        },
        {
          "output_type": "stream",
          "text": [
            "0.5006912747864624\n"
          ],
          "name": "stdout"
        },
        {
          "output_type": "stream",
          "text": [
            "\r 73%|███████▎  | 83/113 [00:22<00:08,  3.75it/s]"
          ],
          "name": "stderr"
        },
        {
          "output_type": "stream",
          "text": [
            "0.5042442392131404\n"
          ],
          "name": "stdout"
        },
        {
          "output_type": "stream",
          "text": [
            "\r 74%|███████▍  | 84/113 [00:22<00:07,  3.77it/s]"
          ],
          "name": "stderr"
        },
        {
          "output_type": "stream",
          "text": [
            "0.49904572564612326\n"
          ],
          "name": "stdout"
        },
        {
          "output_type": "stream",
          "text": [
            "\r 75%|███████▌  | 85/113 [00:22<00:07,  3.81it/s]"
          ],
          "name": "stderr"
        },
        {
          "output_type": "stream",
          "text": [
            "0.5019028140444037\n"
          ],
          "name": "stdout"
        },
        {
          "output_type": "stream",
          "text": [
            "\r 76%|███████▌  | 86/113 [00:23<00:07,  3.71it/s]"
          ],
          "name": "stderr"
        },
        {
          "output_type": "stream",
          "text": [
            "0.5025407028857607\n"
          ],
          "name": "stdout"
        },
        {
          "output_type": "stream",
          "text": [
            "\r 77%|███████▋  | 87/113 [00:23<00:06,  3.79it/s]"
          ],
          "name": "stderr"
        },
        {
          "output_type": "stream",
          "text": [
            "0.49829308581766696\n"
          ],
          "name": "stdout"
        },
        {
          "output_type": "stream",
          "text": [
            "\r 78%|███████▊  | 88/113 [00:23<00:06,  3.76it/s]"
          ],
          "name": "stderr"
        },
        {
          "output_type": "stream",
          "text": [
            "0.501452081405892\n"
          ],
          "name": "stdout"
        },
        {
          "output_type": "stream",
          "text": [
            "\r 79%|███████▉  | 89/113 [00:23<00:06,  3.45it/s]"
          ],
          "name": "stderr"
        },
        {
          "output_type": "stream",
          "text": [
            "0.5213805088457629\n"
          ],
          "name": "stdout"
        },
        {
          "output_type": "stream",
          "text": [
            "\r 80%|███████▉  | 90/113 [00:24<00:06,  3.52it/s]"
          ],
          "name": "stderr"
        },
        {
          "output_type": "stream",
          "text": [
            "0.4964678682251192\n"
          ],
          "name": "stdout"
        },
        {
          "output_type": "stream",
          "text": [
            "\r 81%|████████  | 91/113 [00:24<00:06,  3.58it/s]"
          ],
          "name": "stderr"
        },
        {
          "output_type": "stream",
          "text": [
            "0.48624988920165874\n"
          ],
          "name": "stdout"
        },
        {
          "output_type": "stream",
          "text": [
            "\r 81%|████████▏ | 92/113 [00:24<00:05,  3.66it/s]"
          ],
          "name": "stderr"
        },
        {
          "output_type": "stream",
          "text": [
            "0.4956280241935484\n"
          ],
          "name": "stdout"
        },
        {
          "output_type": "stream",
          "text": [
            "\r 82%|████████▏ | 93/113 [00:24<00:05,  3.73it/s]"
          ],
          "name": "stderr"
        },
        {
          "output_type": "stream",
          "text": [
            "0.5084921219750856\n"
          ],
          "name": "stdout"
        },
        {
          "output_type": "stream",
          "text": [
            "\r 83%|████████▎ | 94/113 [00:25<00:05,  3.77it/s]"
          ],
          "name": "stderr"
        },
        {
          "output_type": "stream",
          "text": [
            "0.5025864411636823\n"
          ],
          "name": "stdout"
        },
        {
          "output_type": "stream",
          "text": [
            "\r 84%|████████▍ | 95/113 [00:25<00:04,  3.85it/s]"
          ],
          "name": "stderr"
        },
        {
          "output_type": "stream",
          "text": [
            "0.5037885093003593\n"
          ],
          "name": "stdout"
        },
        {
          "output_type": "stream",
          "text": [
            "\r 85%|████████▍ | 96/113 [00:25<00:04,  3.87it/s]"
          ],
          "name": "stderr"
        },
        {
          "output_type": "stream",
          "text": [
            "0.5006637552503196\n"
          ],
          "name": "stdout"
        },
        {
          "output_type": "stream",
          "text": [
            "\r 86%|████████▌ | 97/113 [00:25<00:04,  3.91it/s]"
          ],
          "name": "stderr"
        },
        {
          "output_type": "stream",
          "text": [
            "0.4810812626551392\n"
          ],
          "name": "stdout"
        },
        {
          "output_type": "stream",
          "text": [
            "\r 87%|████████▋ | 98/113 [00:26<00:03,  3.90it/s]"
          ],
          "name": "stderr"
        },
        {
          "output_type": "stream",
          "text": [
            "0.48404494484407223\n"
          ],
          "name": "stdout"
        },
        {
          "output_type": "stream",
          "text": [
            "\r 88%|████████▊ | 99/113 [00:26<00:03,  3.92it/s]"
          ],
          "name": "stderr"
        },
        {
          "output_type": "stream",
          "text": [
            "0.49993538382010855\n"
          ],
          "name": "stdout"
        },
        {
          "output_type": "stream",
          "text": [
            "\r 88%|████████▊ | 100/113 [00:26<00:03,  3.41it/s]"
          ],
          "name": "stderr"
        },
        {
          "output_type": "stream",
          "text": [
            "0.4997112690926883\n"
          ],
          "name": "stdout"
        },
        {
          "output_type": "stream",
          "text": [
            "\r 89%|████████▉ | 101/113 [00:27<00:03,  3.54it/s]"
          ],
          "name": "stderr"
        },
        {
          "output_type": "stream",
          "text": [
            "0.49907292456024377\n"
          ],
          "name": "stdout"
        },
        {
          "output_type": "stream",
          "text": [
            "\r 90%|█████████ | 102/113 [00:27<00:02,  3.69it/s]"
          ],
          "name": "stderr"
        },
        {
          "output_type": "stream",
          "text": [
            "0.4988409539959861\n"
          ],
          "name": "stdout"
        },
        {
          "output_type": "stream",
          "text": [
            "\r 91%|█████████ | 103/113 [00:27<00:02,  3.79it/s]"
          ],
          "name": "stderr"
        },
        {
          "output_type": "stream",
          "text": [
            "0.497793063453453\n"
          ],
          "name": "stdout"
        },
        {
          "output_type": "stream",
          "text": [
            "\r 92%|█████████▏| 104/113 [00:27<00:02,  3.79it/s]"
          ],
          "name": "stderr"
        },
        {
          "output_type": "stream",
          "text": [
            "0.4895433932189469\n"
          ],
          "name": "stdout"
        },
        {
          "output_type": "stream",
          "text": [
            "\r 93%|█████████▎| 105/113 [00:28<00:02,  3.82it/s]"
          ],
          "name": "stderr"
        },
        {
          "output_type": "stream",
          "text": [
            "0.4996698664228757\n"
          ],
          "name": "stdout"
        },
        {
          "output_type": "stream",
          "text": [
            "\r 94%|█████████▍| 106/113 [00:28<00:02,  3.31it/s]"
          ],
          "name": "stderr"
        },
        {
          "output_type": "stream",
          "text": [
            "0.49918006686833305\n"
          ],
          "name": "stdout"
        },
        {
          "output_type": "stream",
          "text": [
            "\r 95%|█████████▍| 107/113 [00:28<00:01,  3.52it/s]"
          ],
          "name": "stderr"
        },
        {
          "output_type": "stream",
          "text": [
            "0.49978290584546115\n"
          ],
          "name": "stdout"
        },
        {
          "output_type": "stream",
          "text": [
            "\r 96%|█████████▌| 108/113 [00:29<00:01,  3.67it/s]"
          ],
          "name": "stderr"
        },
        {
          "output_type": "stream",
          "text": [
            "0.4958014233786548\n"
          ],
          "name": "stdout"
        },
        {
          "output_type": "stream",
          "text": [
            "\r 96%|█████████▋| 109/113 [00:29<00:01,  3.73it/s]"
          ],
          "name": "stderr"
        },
        {
          "output_type": "stream",
          "text": [
            "0.4783052961893933\n"
          ],
          "name": "stdout"
        },
        {
          "output_type": "stream",
          "text": [
            "\r 97%|█████████▋| 110/113 [00:29<00:00,  3.81it/s]"
          ],
          "name": "stderr"
        },
        {
          "output_type": "stream",
          "text": [
            "0.4962967870582395\n"
          ],
          "name": "stdout"
        },
        {
          "output_type": "stream",
          "text": [
            "\r 98%|█████████▊| 111/113 [00:29<00:00,  3.90it/s]"
          ],
          "name": "stderr"
        },
        {
          "output_type": "stream",
          "text": [
            "0.5061789381227852\n"
          ],
          "name": "stdout"
        },
        {
          "output_type": "stream",
          "text": [
            "\r 99%|█████████▉| 112/113 [00:30<00:00,  3.32it/s]"
          ],
          "name": "stderr"
        },
        {
          "output_type": "stream",
          "text": [
            "0.49989926853458966\n"
          ],
          "name": "stdout"
        },
        {
          "output_type": "stream",
          "text": [
            "100%|██████████| 113/113 [00:30<00:00,  3.71it/s]"
          ],
          "name": "stderr"
        },
        {
          "output_type": "stream",
          "text": [
            "0.4978826099953446\n"
          ],
          "name": "stdout"
        },
        {
          "output_type": "stream",
          "text": [
            "\n"
          ],
          "name": "stderr"
        }
      ]
    },
    {
      "cell_type": "code",
      "metadata": {
        "id": "ePmjfl-KLU1X"
      },
      "source": [
        "#mean IoU on test dataset: 0.49788"
      ],
      "execution_count": null,
      "outputs": []
    },
    {
      "cell_type": "code",
      "metadata": {
        "id": "PF81tIgPco3l"
      },
      "source": [
        "#https://www.kaggle.com/rajaatif/mias-mammogram\n",
        "\n",
        "import matplotlib.pyplot as plt\n",
        "\n",
        "def hist(history):\n",
        "    fig, ax = plt.subplots(1, 3, figsize=(20, 5))\n",
        " \n",
        "    ax[0].plot(history.history['loss'])\n",
        "    ax[0].plot(history.history['val_loss'])\n",
        "    ax[0].legend(['Training loss', 'Validation Loss'],fontsize=18)\n",
        "    ax[0].set_xlabel('Epochs ',fontsize=16)\n",
        "    ax[0].set_ylabel('Loss',fontsize=16)\n",
        "    ax[0].set_title('Training loss x Validation Loss',fontsize=16)\n",
        " \n",
        " \n",
        "    ax[1].plot(history.history['acc'])\n",
        "    ax[1].plot(history.history['val_acc'])\n",
        "    ax[1].legend(['Training Accuracy', 'Validation Accuracy'],fontsize=18)\n",
        "    ax[1].set_xlabel('Epochs ',fontsize=16)\n",
        "    ax[1].set_ylabel('Accuracy',fontsize=16)\n",
        "    ax[1].set_title('Training Accuracy x Validation Accuracy',fontsize=16)\n",
        "\n",
        "    ax[2].plot(history.history['iou'])\n",
        "    ax[2].plot(history.history['val_iou'])\n",
        "    ax[2].legend(['IOU', 'Validation IOU'],fontsize=18)\n",
        "    ax[2].set_xlabel('Epochs ',fontsize=16)\n",
        "    ax[2].set_ylabel('Accuracy',fontsize=16)\n",
        "    ax[2].set_title('IOU x Validation IOU',fontsize=16)\n",
        "    \n",
        "def plot_any(arr, title = ''):\n",
        "    plt.figure(figsize = (15, 25))\n",
        "    for i in range(len(arr)):\n",
        "        plt.subplot(1,len(arr),i + 1)\n",
        "        plt.title(title)\n",
        "        plt.imshow(arr[i], cmap = 'gray');"
      ],
      "execution_count": null,
      "outputs": []
    },
    {
      "cell_type": "code",
      "metadata": {
        "colab": {
          "base_uri": "https://localhost:8080/",
          "height": 357
        },
        "id": "Oq_CX6pGcr5h",
        "outputId": "8f3cfa90-2e3f-48b0-c6da-2751dd8665e6"
      },
      "source": [
        "hist(history)"
      ],
      "execution_count": null,
      "outputs": [
        {
          "output_type": "display_data",
          "data": {
            "image/png": "[encoded data removed]",
            "text/plain": [
              "<Figure size 1440x360 with 3 Axes>"
            ]
          },
          "metadata": {
            "tags": [],
            "needs_background": "light"
          }
        }
      ]
    }
  ]
}